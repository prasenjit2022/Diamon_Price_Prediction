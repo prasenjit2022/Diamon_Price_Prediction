{
 "cells": [
  {
   "cell_type": "code",
   "execution_count": 26,
   "metadata": {},
   "outputs": [],
   "source": [
    "import pandas as pd\n"
   ]
  },
  {
   "cell_type": "markdown",
   "metadata": {},
   "source": [
    "## MODEL Training"
   ]
  },
  {
   "cell_type": "code",
   "execution_count": 27,
   "metadata": {},
   "outputs": [
    {
     "data": {
      "text/html": [
       "<div>\n",
       "<style scoped>\n",
       "    .dataframe tbody tr th:only-of-type {\n",
       "        vertical-align: middle;\n",
       "    }\n",
       "\n",
       "    .dataframe tbody tr th {\n",
       "        vertical-align: top;\n",
       "    }\n",
       "\n",
       "    .dataframe thead th {\n",
       "        text-align: right;\n",
       "    }\n",
       "</style>\n",
       "<table border=\"1\" class=\"dataframe\">\n",
       "  <thead>\n",
       "    <tr style=\"text-align: right;\">\n",
       "      <th></th>\n",
       "      <th>id</th>\n",
       "      <th>carat</th>\n",
       "      <th>cut</th>\n",
       "      <th>color</th>\n",
       "      <th>clarity</th>\n",
       "      <th>depth</th>\n",
       "      <th>table</th>\n",
       "      <th>x</th>\n",
       "      <th>y</th>\n",
       "      <th>z</th>\n",
       "      <th>price</th>\n",
       "    </tr>\n",
       "  </thead>\n",
       "  <tbody>\n",
       "    <tr>\n",
       "      <th>0</th>\n",
       "      <td>1</td>\n",
       "      <td>0.30</td>\n",
       "      <td>Ideal</td>\n",
       "      <td>E</td>\n",
       "      <td>SI1</td>\n",
       "      <td>62.1</td>\n",
       "      <td>58.0</td>\n",
       "      <td>4.27</td>\n",
       "      <td>4.29</td>\n",
       "      <td>2.66</td>\n",
       "      <td>499</td>\n",
       "    </tr>\n",
       "    <tr>\n",
       "      <th>1</th>\n",
       "      <td>2</td>\n",
       "      <td>0.33</td>\n",
       "      <td>Premium</td>\n",
       "      <td>G</td>\n",
       "      <td>IF</td>\n",
       "      <td>60.8</td>\n",
       "      <td>58.0</td>\n",
       "      <td>4.42</td>\n",
       "      <td>4.46</td>\n",
       "      <td>2.70</td>\n",
       "      <td>984</td>\n",
       "    </tr>\n",
       "    <tr>\n",
       "      <th>2</th>\n",
       "      <td>3</td>\n",
       "      <td>0.90</td>\n",
       "      <td>Very Good</td>\n",
       "      <td>E</td>\n",
       "      <td>VVS2</td>\n",
       "      <td>62.2</td>\n",
       "      <td>60.0</td>\n",
       "      <td>6.04</td>\n",
       "      <td>6.12</td>\n",
       "      <td>3.78</td>\n",
       "      <td>6289</td>\n",
       "    </tr>\n",
       "    <tr>\n",
       "      <th>3</th>\n",
       "      <td>4</td>\n",
       "      <td>0.42</td>\n",
       "      <td>Ideal</td>\n",
       "      <td>F</td>\n",
       "      <td>VS1</td>\n",
       "      <td>61.6</td>\n",
       "      <td>56.0</td>\n",
       "      <td>4.82</td>\n",
       "      <td>4.80</td>\n",
       "      <td>2.96</td>\n",
       "      <td>1082</td>\n",
       "    </tr>\n",
       "    <tr>\n",
       "      <th>4</th>\n",
       "      <td>5</td>\n",
       "      <td>0.31</td>\n",
       "      <td>Ideal</td>\n",
       "      <td>F</td>\n",
       "      <td>VVS1</td>\n",
       "      <td>60.4</td>\n",
       "      <td>59.0</td>\n",
       "      <td>4.35</td>\n",
       "      <td>4.43</td>\n",
       "      <td>2.65</td>\n",
       "      <td>779</td>\n",
       "    </tr>\n",
       "  </tbody>\n",
       "</table>\n",
       "</div>"
      ],
      "text/plain": [
       "   id  carat        cut color clarity  depth  table     x     y     z  price\n",
       "0   1   0.30      Ideal     E     SI1   62.1   58.0  4.27  4.29  2.66    499\n",
       "1   2   0.33    Premium     G      IF   60.8   58.0  4.42  4.46  2.70    984\n",
       "2   3   0.90  Very Good     E    VVS2   62.2   60.0  6.04  6.12  3.78   6289\n",
       "3   4   0.42      Ideal     F     VS1   61.6   56.0  4.82  4.80  2.96   1082\n",
       "4   5   0.31      Ideal     F    VVS1   60.4   59.0  4.35  4.43  2.65    779"
      ]
     },
     "execution_count": 27,
     "metadata": {},
     "output_type": "execute_result"
    }
   ],
   "source": [
    "df=pd.read_csv(\"./data/cubic_zirconia.csv\")\n",
    "df.head()"
   ]
  },
  {
   "cell_type": "code",
   "execution_count": 28,
   "metadata": {},
   "outputs": [],
   "source": [
    "df=df.drop(labels=['id'],axis=1)"
   ]
  },
  {
   "cell_type": "code",
   "execution_count": 29,
   "metadata": {},
   "outputs": [],
   "source": [
    "## Independent and Dependent features\n",
    "X=df.drop(labels=['price'],axis=1)\n",
    "Y=df[['price']]"
   ]
  },
  {
   "cell_type": "code",
   "execution_count": 30,
   "metadata": {},
   "outputs": [],
   "source": [
    "## Define which columns should be ordinal -encoded and which should be scales\n",
    "categorical_cols=X.select_dtypes(include='object').columns\n",
    "numerical_cols=X.select_dtypes(exclude='object').columns"
   ]
  },
  {
   "cell_type": "code",
   "execution_count": 31,
   "metadata": {},
   "outputs": [],
   "source": [
    "## Define custom ranking for each ordinal variable\n",
    "cut_categories=['Fair','Good','Very Good','Premium','Ideal']\n",
    "color_categories=['D','E','F','G','H','I','J']\n",
    "clarity_categories=['I1','SI2','SI1','VS2','VS1','VVS2','VVS1','IF']"
   ]
  },
  {
   "cell_type": "code",
   "execution_count": 36,
   "metadata": {},
   "outputs": [],
   "source": [
    "from sklearn.impute import SimpleImputer ## Handling missing values\n",
    "from sklearn.preprocessing import StandardScaler # Handling feature scaling\n",
    "from sklearn.preprocessing import OrdinalEncoder # Ordinal Encoding\n",
    "## pipeline\n",
    "from sklearn.pipeline import Pipeline\n",
    "from sklearn.compose import ColumnTransformer"
   ]
  },
  {
   "cell_type": "code",
   "execution_count": 33,
   "metadata": {},
   "outputs": [],
   "source": [
    "## Numerical Pipeline\n",
    "num_pipeline=Pipeline(\n",
    "    steps=[\n",
    "        ('imputer',SimpleImputer(strategy='median')),\n",
    "        ('scaler',StandardScaler())\n",
    "    ]\n",
    ")\n",
    "\n",
    "## Categorical Pipeline\n",
    "cat_pipeline=Pipeline(\n",
    "    steps=[\n",
    "        ('imputer',SimpleImputer(strategy='most_frequent')),\n",
    "        ('ordinalencoder',OrdinalEncoder(categories=[cut_categories,color_categories,clarity_categories])),\n",
    "        ('scaler',StandardScaler())\n",
    "    ]\n",
    ")\n",
    "\n",
    "preprocessor=ColumnTransformer(\n",
    "    [\n",
    "    ('num_pipeline',num_pipeline,numerical_cols),\n",
    "    ('cat_pipeline',cat_pipeline,categorical_cols),\n",
    "])"
   ]
  },
  {
   "cell_type": "code",
   "execution_count": 34,
   "metadata": {},
   "outputs": [],
   "source": [
    "## Train test split\n",
    "from sklearn.model_selection import train_test_split\n",
    "X_train,X_test,y_train,y_test=train_test_split(X,Y,test_size=0.30,random_state=30)"
   ]
  },
  {
   "cell_type": "code",
   "execution_count": 37,
   "metadata": {},
   "outputs": [
    {
     "ename": "AttributeError",
     "evalue": "'ColumnTransformer' object has no attribute 'get_features_names_out'",
     "output_type": "error",
     "traceback": [
      "\u001b[1;31m---------------------------------------------------------------------------\u001b[0m",
      "\u001b[1;31mAttributeError\u001b[0m                            Traceback (most recent call last)",
      "Cell \u001b[1;32mIn[37], line 1\u001b[0m\n\u001b[1;32m----> 1\u001b[0m train\u001b[39m=\u001b[39mpd\u001b[39m.\u001b[39mDataFrame(preprocessor\u001b[39m.\u001b[39mfit_transform(X_train),columns\u001b[39m=\u001b[39mpreprocessor\u001b[39m.\u001b[39;49mget_features_names_out())\n\u001b[0;32m      2\u001b[0m test\u001b[39m=\u001b[39mpd\u001b[39m.\u001b[39mDataFrame(preprocessor\u001b[39m.\u001b[39mfit_transform(X_test),columns\u001b[39m=\u001b[39mpreprocessor\u001b[39m.\u001b[39mget_features_names_out())\n",
      "\u001b[1;31mAttributeError\u001b[0m: 'ColumnTransformer' object has no attribute 'get_features_names_out'"
     ]
    }
   ],
   "source": [
    "train=pd.DataFrame(preprocessor.fit_transform(X_train),columns=preprocessor.get_features_names_out())\n",
    "test=pd.DataFrame(preprocessor.fit_transform(X_test),columns=preprocessor.get_features_names_out())"
   ]
  },
  {
   "cell_type": "code",
   "execution_count": null,
   "metadata": {},
   "outputs": [
    {
     "data": {
      "text/html": [
       "<div>\n",
       "<style scoped>\n",
       "    .dataframe tbody tr th:only-of-type {\n",
       "        vertical-align: middle;\n",
       "    }\n",
       "\n",
       "    .dataframe tbody tr th {\n",
       "        vertical-align: top;\n",
       "    }\n",
       "\n",
       "    .dataframe thead th {\n",
       "        text-align: right;\n",
       "    }\n",
       "</style>\n",
       "<table border=\"1\" class=\"dataframe\">\n",
       "  <thead>\n",
       "    <tr style=\"text-align: right;\">\n",
       "      <th></th>\n",
       "      <th>carat</th>\n",
       "      <th>cut</th>\n",
       "      <th>color</th>\n",
       "      <th>clarity</th>\n",
       "      <th>depth</th>\n",
       "      <th>table</th>\n",
       "      <th>x</th>\n",
       "      <th>y</th>\n",
       "      <th>z</th>\n",
       "    </tr>\n",
       "  </thead>\n",
       "  <tbody>\n",
       "    <tr>\n",
       "      <th>4634</th>\n",
       "      <td>1.07</td>\n",
       "      <td>Ideal</td>\n",
       "      <td>G</td>\n",
       "      <td>VS1</td>\n",
       "      <td>62.2</td>\n",
       "      <td>56.0</td>\n",
       "      <td>6.53</td>\n",
       "      <td>6.56</td>\n",
       "      <td>4.07</td>\n",
       "    </tr>\n",
       "    <tr>\n",
       "      <th>5397</th>\n",
       "      <td>0.51</td>\n",
       "      <td>Very Good</td>\n",
       "      <td>E</td>\n",
       "      <td>SI1</td>\n",
       "      <td>61.2</td>\n",
       "      <td>61.0</td>\n",
       "      <td>5.13</td>\n",
       "      <td>5.16</td>\n",
       "      <td>3.15</td>\n",
       "    </tr>\n",
       "    <tr>\n",
       "      <th>22885</th>\n",
       "      <td>0.55</td>\n",
       "      <td>Ideal</td>\n",
       "      <td>H</td>\n",
       "      <td>SI2</td>\n",
       "      <td>61.4</td>\n",
       "      <td>55.0</td>\n",
       "      <td>5.27</td>\n",
       "      <td>5.29</td>\n",
       "      <td>3.24</td>\n",
       "    </tr>\n",
       "    <tr>\n",
       "      <th>2721</th>\n",
       "      <td>0.32</td>\n",
       "      <td>Ideal</td>\n",
       "      <td>H</td>\n",
       "      <td>VS1</td>\n",
       "      <td>62.1</td>\n",
       "      <td>55.0</td>\n",
       "      <td>4.40</td>\n",
       "      <td>4.39</td>\n",
       "      <td>2.73</td>\n",
       "    </tr>\n",
       "    <tr>\n",
       "      <th>18705</th>\n",
       "      <td>0.91</td>\n",
       "      <td>Very Good</td>\n",
       "      <td>H</td>\n",
       "      <td>VS2</td>\n",
       "      <td>63.1</td>\n",
       "      <td>56.0</td>\n",
       "      <td>6.20</td>\n",
       "      <td>6.13</td>\n",
       "      <td>3.89</td>\n",
       "    </tr>\n",
       "  </tbody>\n",
       "</table>\n",
       "</div>"
      ],
      "text/plain": [
       "       carat        cut color clarity  depth  table     x     y     z\n",
       "4634    1.07      Ideal     G     VS1   62.2   56.0  6.53  6.56  4.07\n",
       "5397    0.51  Very Good     E     SI1   61.2   61.0  5.13  5.16  3.15\n",
       "22885   0.55      Ideal     H     SI2   61.4   55.0  5.27  5.29  3.24\n",
       "2721    0.32      Ideal     H     VS1   62.1   55.0  4.40  4.39  2.73\n",
       "18705   0.91  Very Good     H     VS2   63.1   56.0  6.20  6.13  3.89"
      ]
     },
     "execution_count": 20,
     "metadata": {},
     "output_type": "execute_result"
    }
   ],
   "source": [
    "X_train.head()"
   ]
  }
 ],
 "metadata": {
  "kernelspec": {
   "display_name": "Python 3",
   "language": "python",
   "name": "python3"
  },
  "language_info": {
   "codemirror_mode": {
    "name": "ipython",
    "version": 3
   },
   "file_extension": ".py",
   "mimetype": "text/x-python",
   "name": "python",
   "nbconvert_exporter": "python",
   "pygments_lexer": "ipython3",
   "version": "3.8.0"
  },
  "orig_nbformat": 4
 },
 "nbformat": 4,
 "nbformat_minor": 2
}
